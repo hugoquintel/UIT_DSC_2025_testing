{
 "cells": [
  {
   "cell_type": "code",
   "execution_count": 17,
   "id": "c5457ea9",
   "metadata": {},
   "outputs": [],
   "source": [
    "import pandas as pd\n",
    "from transformers import AutoTokenizer, AutoModel"
   ]
  },
  {
   "cell_type": "code",
   "execution_count": 6,
   "id": "359cb936",
   "metadata": {},
   "outputs": [],
   "source": [
    "train_df = pd.read_csv('data_test/train.csv')\n",
    "dev_df = pd.read_csv('data_test/dev.csv')"
   ]
  },
  {
   "cell_type": "code",
   "execution_count": null,
   "id": "2dc6ed2e",
   "metadata": {},
   "outputs": [
    {
     "data": {
      "text/plain": [
       "119"
      ]
     },
     "execution_count": 16,
     "metadata": {},
     "output_type": "execute_result"
    }
   ],
   "source": [
    "segmenter_tokenizer = AutoTokenizer.from_pretrained(args.SEG_PLM)\n",
    "segmenter_model = AutoModel.from_pretrained(args.SEG_PLM)"
   ]
  }
 ],
 "metadata": {
  "kernelspec": {
   "display_name": "ML",
   "language": "python",
   "name": "python3"
  },
  "language_info": {
   "codemirror_mode": {
    "name": "ipython",
    "version": 3
   },
   "file_extension": ".py",
   "mimetype": "text/x-python",
   "name": "python",
   "nbconvert_exporter": "python",
   "pygments_lexer": "ipython3",
   "version": "3.10.4"
  }
 },
 "nbformat": 4,
 "nbformat_minor": 5
}
